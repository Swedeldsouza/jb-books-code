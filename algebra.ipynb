{
 "cells": [
  {
   "cell_type": "markdown",
   "metadata": {},
   "source": [
    "# Linear algebra\n",
    "\n",
    "-  NUMPY   (create, index, slice, and reshape NumPy arrays)\n",
    "-  MATRICES\n",
    "     -  Vectors and vector arithmetic\n",
    "     -  norms\n",
    "     -  matrices and matrix arithmetic\n",
    "     -  Types of matrices\n",
    "     - matrix operations\n",
    "     - sparse matrices\n",
    "     - tensor and tensor arithmetic\n",
    "\n",
    "-   FACTORIZATION\n",
    "       -  matrix decompositions\n",
    "       -  Eigendecomposition\n",
    "       -  Singular Value Decomposition\n",
    "       \n",
    "-  STATISTICS\n",
    "    -   Multivariate statistics\n",
    "    -   PCA\n",
    "    -   Linear regression\n",
    "\n",
    "     \n",
    "     \n",
    "     \n",
    "## Linear Algebra\n",
    " \n",
    " 1. Linear Algebra.\n",
    " 2. Numerical Linear Algebra.\n",
    " 3. Linear Algebra and Statistics.\n",
    "\n",
    "\n",
    "\n",
    "matrices and vectors are language of data\n",
    "- arithmetic operations on columns of numbers are called vectors and arithmetic operations on arrays of numbers are called matrices\n",
    "    \n",
    "      \n",
    "                     y = mx +c\n",
    "                     \n",
    "                     \n",
    "-  Linear algebra is the study of lines and planes, vector spaces and mappings that are required for linear transforms."
   ]
  },
  {
   "cell_type": "code",
   "execution_count": 1,
   "metadata": {},
   "outputs": [
    {
     "name": "stdout",
     "output_type": "stream",
     "text": [
      "\n",
      "Dictionary Iteration\n",
      "xyz  123\n",
      "abc  345\n"
     ]
    }
   ],
   "source": []
  },
  {
   "cell_type": "code",
   "execution_count": null,
   "metadata": {},
   "outputs": [],
   "source": []
  }
 ],
 "metadata": {
  "kernelspec": {
   "display_name": "Python 3",
   "language": "python",
   "name": "python3"
  },
  "language_info": {
   "codemirror_mode": {
    "name": "ipython",
    "version": 3
   },
   "file_extension": ".py",
   "mimetype": "text/x-python",
   "name": "python",
   "nbconvert_exporter": "python",
   "pygments_lexer": "ipython3",
   "version": "3.7.6"
  }
 },
 "nbformat": 4,
 "nbformat_minor": 4
}
